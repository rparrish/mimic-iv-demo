{
 "cells": [
  {
   "cell_type": "code",
   "execution_count": 0,
   "metadata": {
    "application/vnd.databricks.v1+cell": {
     "cellMetadata": {
      "byteLimit": 2048000,
      "implicitDf": true,
      "rowLimit": 10000
     },
     "inputWidgets": {},
     "nuid": "a5bc3e78-0337-44ab-9e0e-e1ca77961231",
     "showTitle": false,
     "tableResultSettingsMap": {},
     "title": ""
    }
   },
   "outputs": [],
   "source": [
    "%sql\n",
    "SELECT \n",
    "table_name\n",
    "\n",
    "FROM metastore.information_schema.views\n",
    "WHERE 1=1\n",
    "AND table_schema = 'mimic_iv_demo'\n",
    "AND table_name LIKE 'ccdm_v\\_%'\n"
   ]
  },
  {
   "cell_type": "code",
   "execution_count": 0,
   "metadata": {
    "application/vnd.databricks.v1+cell": {
     "cellMetadata": {
      "byteLimit": 2048000,
      "rowLimit": 10000
     },
     "inputWidgets": {},
     "nuid": "fdb12b2a-ea62-4f3b-a402-a33f807d299e",
     "showTitle": false,
     "tableResultSettingsMap": {},
     "title": ""
    }
   },
   "outputs": [],
   "source": [
    "%python\n",
    "\n",
    "df = spark.sql(\"\"\"\n",
    "SELECT \n",
    "table_name \n",
    "FROM metastore.information_schema.views \n",
    "WHERE 1=1 \n",
    "AND table_schema = 'mimic_iv_demo'\n",
    "AND table_name LIKE 'ccdm_v\\_%'\n",
    "\"\"\")\n",
    "\n",
    "\n",
    "#dbutils.jobs.taskValues.set(key = \"my_views\", value = df.toPandas()['table_name'])\n",
    "\n",
    "\n",
    "\n"
   ]
  },
  {
   "cell_type": "code",
   "execution_count": 0,
   "metadata": {
    "application/vnd.databricks.v1+cell": {
     "cellMetadata": {
      "byteLimit": 2048000,
      "rowLimit": 10000
     },
     "inputWidgets": {},
     "nuid": "a288a7a4-e860-40ee-a09e-1895f29d7c7b",
     "showTitle": false,
     "tableResultSettingsMap": {},
     "title": ""
    }
   },
   "outputs": [],
   "source": [
    "%python\n",
    "import pandas \n",
    "\n",
    "table_names = list(df.toPandas()['table_name'])\n",
    "dbutils.jobs.taskValues.set(key = \"table_names\", value = table_names)\n",
    "\n"
   ]
  }
 ],
 "metadata": {
  "application/vnd.databricks.v1+notebook": {
   "computePreferences": null,
   "dashboards": [],
   "environmentMetadata": {
    "base_environment": "",
    "environment_version": "2"
   },
   "inputWidgetPreferences": null,
   "language": "python",
   "notebookMetadata": {
    "mostRecentlyExecutedCommandWithImplicitDF": {
     "commandId": 5992750484017904,
     "dataframes": [
      "_sqldf"
     ]
    },
    "pythonIndentUnit": 4
   },
   "notebookName": "get_views",
   "widgets": {}
  },
  "language_info": {
   "name": "python"
  }
 },
 "nbformat": 4,
 "nbformat_minor": 0
}
